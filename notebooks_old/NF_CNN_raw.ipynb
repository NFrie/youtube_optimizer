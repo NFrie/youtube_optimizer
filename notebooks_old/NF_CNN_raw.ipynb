{
 "cells": [
  {
   "cell_type": "markdown",
   "id": "2aadbc25",
   "metadata": {},
   "source": [
    "# Load Images"
   ]
  },
  {
   "cell_type": "code",
   "execution_count": 1,
   "id": "c4f50ae6",
   "metadata": {},
   "outputs": [],
   "source": [
    "import os\n",
    "import matplotlib.pyplot as plt\n",
    "from sklearn.model_selection import train_test_split\n",
    "import numpy as np"
   ]
  },
  {
   "cell_type": "code",
   "execution_count": 2,
   "id": "ae5a18ba",
   "metadata": {},
   "outputs": [],
   "source": [
    "from google.cloud import storage\n",
    "from google.oauth2 import service_account"
   ]
  },
  {
   "cell_type": "code",
   "execution_count": 3,
   "id": "6b8a4ff6",
   "metadata": {},
   "outputs": [],
   "source": [
    "def get_images_to_folder():\n",
    "    \n",
    "    #To change\n",
    "    BUCKET_NAME = \"youtube_optimizer_data\" #Bucket name\n",
    "    storage_dir = \"thumbnail_images\" #Folder in bucket that contains th images\n",
    "    local_dir = \"bucket_data/\" #Create this manually in the same location as this file\n",
    "    #Store the \"massive-pen-365111-8eaed18fb748.json\" file there as well\n",
    "\n",
    "    my_credentials = service_account.Credentials.from_service_account_file(\"massive-pen-365111-8eaed18fb748.json\")\n",
    "\n",
    "    client = storage.Client(credentials=my_credentials)\n",
    "    bucket = client.bucket(BUCKET_NAME)\n",
    "    blob = bucket.blob(storage_dir)\n",
    "    \n",
    "    blobs = bucket.list_blobs(prefix =storage_dir)\n",
    "    for blob in blobs:\n",
    "        filename = blob.name.replace('/','_')\n",
    "        blob.download_to_filename(local_dir + filename)"
   ]
  },
  {
   "cell_type": "code",
   "execution_count": 4,
   "id": "649c58ad",
   "metadata": {},
   "outputs": [],
   "source": [
    "#Specify the path to the folder in which you just stored the images\n",
    "def load_images_from_folder(folder='/Users/nicolafriedrich/code/jacksharples1/youtube_optimizer/bucket_data'):\n",
    "    images = []\n",
    "    views = []\n",
    "    video_ids = []\n",
    "    for filename in os.listdir(folder):\n",
    "        last_underscore = filename.rfind('_')\n",
    "        video_id = filename[len('thumbnail_images_'):last_underscore-1]\n",
    "        if video_id not in video_ids:\n",
    "            video_ids.append(video_id)\n",
    "            if len(filename)< len('thumbnail_images_')+1: #enter name of the folder in the bucket that contains the images\n",
    "                continue\n",
    "    \n",
    "            else:\n",
    "                img = plt.imread(os.path.join(folder,filename))\n",
    "                if img.shape != (180,320,3):\n",
    "                    continue\n",
    "                else:\n",
    "                    \n",
    "                    y = int(filename[last_underscore +1:])\n",
    "                    images.append(list(img))\n",
    "                    views.append(y)\n",
    "    return images, views\n"
   ]
  },
  {
   "cell_type": "code",
   "execution_count": null,
   "id": "69a3e4fa",
   "metadata": {},
   "outputs": [],
   "source": [
    "def dataloading():\n",
    "    get_images_to_folder()\n",
    "    X,y = load_images_from_folder()\n",
    "    #X_train, X_test, y_train, y_test = train_test_split(X, y, test_size=0.3, random_state=0)\n",
    "    X_train, X_test, y_train, y_test = train_test_split(X, y, test_size=0.3, random_state=0)\n",
    "    X_train = np.array(X_train)\n",
    "    y_train = np.array(y_train)\n",
    "    X_test = np.array(X_test)\n",
    "    y_test = np.array(y_test)\n",
    "    return X_train, X_test, y_train, y_test"
   ]
  },
  {
   "cell_type": "code",
   "execution_count": null,
   "id": "5a63ba3f",
   "metadata": {},
   "outputs": [],
   "source": [
    "X_train, X_test, y_train, y_test = dataloading()"
   ]
  },
  {
   "cell_type": "markdown",
   "id": "6afb7195",
   "metadata": {},
   "source": [
    "# Model"
   ]
  },
  {
   "cell_type": "code",
   "execution_count": null,
   "id": "26773dda",
   "metadata": {},
   "outputs": [],
   "source": [
    "from keras.applications.xception import Xception\n",
    "from keras.layers import GlobalAveragePooling2D, Dense, Flatten\n",
    "from keras.models import Sequential"
   ]
  },
  {
   "cell_type": "code",
   "execution_count": null,
   "id": "4258dfd0",
   "metadata": {},
   "outputs": [],
   "source": [
    "def base_model():\n",
    "    base_model = Xception(weights=\"imagenet\",input_shape = (180,320,3),include_top=False)\n",
    "    base_model.trainable = False\n",
    "    return base_model"
   ]
  },
  {
   "cell_type": "code",
   "execution_count": null,
   "id": "0199485a",
   "metadata": {},
   "outputs": [],
   "source": [
    "def complete_model():\n",
    "    model = Sequential((\n",
    "        base_model(),\n",
    "        GlobalAveragePooling2D(),\n",
    "        Flatten(),\n",
    "        Dense(50,activation = 'relu'),\n",
    "        Dense(1,activation = 'linear')))\n",
    "    \n",
    "    model.compile(loss=\"mse\", optimizer='adam',\n",
    "                  metrics=[\"mae\"])\n",
    "    \n",
    "    return model  "
   ]
  },
  {
   "cell_type": "code",
   "execution_count": null,
   "id": "065a3a82",
   "metadata": {},
   "outputs": [],
   "source": [
    "model = complete_model()\n",
    "model.summary()"
   ]
  },
  {
   "cell_type": "code",
   "execution_count": null,
   "id": "e9b37587",
   "metadata": {},
   "outputs": [],
   "source": [
    "from tensorflow.keras.callbacks import EarlyStopping\n",
    "es = EarlyStopping(patience = 15, restore_best_weights = True)"
   ]
  },
  {
   "cell_type": "code",
   "execution_count": null,
   "id": "f6f4c494",
   "metadata": {},
   "outputs": [],
   "source": [
    "history = model.fit(X_train,y_train, epochs = 1000,batch_size = 16,validation_split=0.2)"
   ]
  },
  {
   "cell_type": "markdown",
   "id": "99e22efa",
   "metadata": {},
   "source": [
    "# Baseline model"
   ]
  },
  {
   "cell_type": "code",
   "execution_count": null,
   "id": "ed91098b",
   "metadata": {},
   "outputs": [],
   "source": [
    "from sklearn.metrics import mean_absolute_error"
   ]
  },
  {
   "cell_type": "code",
   "execution_count": null,
   "id": "1751e4d9",
   "metadata": {},
   "outputs": [],
   "source": [
    "np.mean(np.abs(y_train - np.mean(y_train)))"
   ]
  }
 ],
 "metadata": {
  "kernelspec": {
   "display_name": "Python 3 (ipykernel)",
   "language": "python",
   "name": "python3"
  },
  "language_info": {
   "codemirror_mode": {
    "name": "ipython",
    "version": 3
   },
   "file_extension": ".py",
   "mimetype": "text/x-python",
   "name": "python",
   "nbconvert_exporter": "python",
   "pygments_lexer": "ipython3",
   "version": "3.10.6"
  },
  "toc": {
   "base_numbering": 1,
   "nav_menu": {},
   "number_sections": true,
   "sideBar": true,
   "skip_h1_title": false,
   "title_cell": "Table of Contents",
   "title_sidebar": "Contents",
   "toc_cell": false,
   "toc_position": {},
   "toc_section_display": true,
   "toc_window_display": false
  }
 },
 "nbformat": 4,
 "nbformat_minor": 5
}
