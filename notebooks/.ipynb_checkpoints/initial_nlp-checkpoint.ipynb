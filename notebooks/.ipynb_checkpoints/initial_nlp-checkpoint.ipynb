{
 "cells": [
  {
   "cell_type": "code",
   "execution_count": 1,
   "id": "861c0f92",
   "metadata": {},
   "outputs": [],
   "source": [
    "import pandas as pd\n",
    "import numpy as np\n",
    "import matplotlib.pyplot as plt\n",
    "import seaborn as sns\n",
    "\n",
    "from tensorflow.keras.preprocessing.text import text_to_word_sequence\n",
    "\n",
    "from transformers import AutoConfig, AutoModel,AutoTokenizer\n",
    "from tensorflow.keras.preprocessing.text import Tokenizer\n",
    "from tensorflow.keras.preprocessing.sequence import pad_sequences\n",
    "\n"
   ]
  },
  {
   "cell_type": "code",
   "execution_count": 42,
   "id": "80603bd3",
   "metadata": {},
   "outputs": [],
   "source": [
    "df=pd.read_csv('../raw_data/starter_title_train.csv')"
   ]
  },
  {
   "cell_type": "code",
   "execution_count": 46,
   "id": "4a861827",
   "metadata": {},
   "outputs": [],
   "source": [
    "\n",
    "from langdetect import detect\n",
    "df_english_titles=df[df['title'].apply(lambda x:detect(x))=='en']"
   ]
  },
  {
   "cell_type": "code",
   "execution_count": 47,
   "id": "c6ac2592",
   "metadata": {},
   "outputs": [],
   "source": []
  },
  {
   "cell_type": "code",
   "execution_count": 48,
   "id": "7e399b22",
   "metadata": {
    "scrolled": true
   },
   "outputs": [
    {
     "data": {
      "text/html": [
       "<div>\n",
       "<style scoped>\n",
       "    .dataframe tbody tr th:only-of-type {\n",
       "        vertical-align: middle;\n",
       "    }\n",
       "\n",
       "    .dataframe tbody tr th {\n",
       "        vertical-align: top;\n",
       "    }\n",
       "\n",
       "    .dataframe thead th {\n",
       "        text-align: right;\n",
       "    }\n",
       "</style>\n",
       "<table border=\"1\" class=\"dataframe\">\n",
       "  <thead>\n",
       "    <tr style=\"text-align: right;\">\n",
       "      <th></th>\n",
       "      <th>Unnamed: 0</th>\n",
       "      <th>id</th>\n",
       "      <th>channel_id</th>\n",
       "      <th>title</th>\n",
       "      <th>views</th>\n",
       "    </tr>\n",
       "  </thead>\n",
       "  <tbody>\n",
       "    <tr>\n",
       "      <th>1</th>\n",
       "      <td>0</td>\n",
       "      <td>JOlc_ksXncM</td>\n",
       "      <td>UCY64_tffZ71RniyKDj5bWRA</td>\n",
       "      <td>Crispy French Fries Recipe! You Can Make PERFE...</td>\n",
       "      <td>1340138</td>\n",
       "    </tr>\n",
       "    <tr>\n",
       "      <th>2</th>\n",
       "      <td>0</td>\n",
       "      <td>doqBgKIBBh8</td>\n",
       "      <td>UCUaLy1_4rsLo4HyCLCPlD4g</td>\n",
       "      <td>🔴 LIVE WEBCAM from LANZAROTE AIRPORT</td>\n",
       "      <td>18880210</td>\n",
       "    </tr>\n",
       "    <tr>\n",
       "      <th>3</th>\n",
       "      <td>0</td>\n",
       "      <td>PM4JQE-35O4</td>\n",
       "      <td>UCDfYcuNw-ff952Xn0VDWwDw</td>\n",
       "      <td>SO WE GOT BANDICOOT-NAPPED... || Crash Bandico...</td>\n",
       "      <td>90917</td>\n",
       "    </tr>\n",
       "    <tr>\n",
       "      <th>4</th>\n",
       "      <td>0</td>\n",
       "      <td>gBifepJRAXU</td>\n",
       "      <td>UCDfYcuNw-ff952Xn0VDWwDw</td>\n",
       "      <td>N.GIN HAS MADE HIS OWN ANIMATRONIC? || Crash B...</td>\n",
       "      <td>101879</td>\n",
       "    </tr>\n",
       "    <tr>\n",
       "      <th>7</th>\n",
       "      <td>0</td>\n",
       "      <td>8KGXSjtS5pk</td>\n",
       "      <td>UCMpn1qLudF-zb4M4bqxLIbw</td>\n",
       "      <td>🔴Live Webcam around the World - Live Camera - ...</td>\n",
       "      <td>4838120</td>\n",
       "    </tr>\n",
       "    <tr>\n",
       "      <th>...</th>\n",
       "      <td>...</td>\n",
       "      <td>...</td>\n",
       "      <td>...</td>\n",
       "      <td>...</td>\n",
       "      <td>...</td>\n",
       "    </tr>\n",
       "    <tr>\n",
       "      <th>736</th>\n",
       "      <td>0</td>\n",
       "      <td>BUpwLbMntjg</td>\n",
       "      <td>UCHDe6fMvgoCeVE9bdDnIXCw</td>\n",
       "      <td>300/Best scene/Zack Snyder/Gerard Butler/Leoni...</td>\n",
       "      <td>2314</td>\n",
       "    </tr>\n",
       "    <tr>\n",
       "      <th>737</th>\n",
       "      <td>0</td>\n",
       "      <td>DVwq_vaKGtA</td>\n",
       "      <td>UCst9GLZ-X47MxWBmx9cCrKA</td>\n",
       "      <td>xQc Shows Me His New $1,000,000 Lambo in GTA 5 RP</td>\n",
       "      <td>215226</td>\n",
       "    </tr>\n",
       "    <tr>\n",
       "      <th>739</th>\n",
       "      <td>0</td>\n",
       "      <td>hs379lua3gY</td>\n",
       "      <td>UC9lRSat3J2IhZ0_TOV-XNzA</td>\n",
       "      <td>Big Update Tomorrow?!</td>\n",
       "      <td>159562</td>\n",
       "    </tr>\n",
       "    <tr>\n",
       "      <th>742</th>\n",
       "      <td>0</td>\n",
       "      <td>z8TUNvRs1KU</td>\n",
       "      <td>UCTUO_3bYr50vmH0aE7byMjg</td>\n",
       "      <td>Icefrog doesn&amp;#39;t want you to know this</td>\n",
       "      <td>190248</td>\n",
       "    </tr>\n",
       "    <tr>\n",
       "      <th>743</th>\n",
       "      <td>0</td>\n",
       "      <td>qV3rmYKnsTc</td>\n",
       "      <td>UCSn0_ckKBvHeZLokQjjVXww</td>\n",
       "      <td>GTA 5 ONLINE 🐷 MEGA RAMPE PERICOLOSE !!!🐷 GARE...</td>\n",
       "      <td>193266</td>\n",
       "    </tr>\n",
       "  </tbody>\n",
       "</table>\n",
       "<p>411 rows × 5 columns</p>\n",
       "</div>"
      ],
      "text/plain": [
       "     Unnamed: 0           id                channel_id  \\\n",
       "1             0  JOlc_ksXncM  UCY64_tffZ71RniyKDj5bWRA   \n",
       "2             0  doqBgKIBBh8  UCUaLy1_4rsLo4HyCLCPlD4g   \n",
       "3             0  PM4JQE-35O4  UCDfYcuNw-ff952Xn0VDWwDw   \n",
       "4             0  gBifepJRAXU  UCDfYcuNw-ff952Xn0VDWwDw   \n",
       "7             0  8KGXSjtS5pk  UCMpn1qLudF-zb4M4bqxLIbw   \n",
       "..          ...          ...                       ...   \n",
       "736           0  BUpwLbMntjg  UCHDe6fMvgoCeVE9bdDnIXCw   \n",
       "737           0  DVwq_vaKGtA  UCst9GLZ-X47MxWBmx9cCrKA   \n",
       "739           0  hs379lua3gY  UC9lRSat3J2IhZ0_TOV-XNzA   \n",
       "742           0  z8TUNvRs1KU  UCTUO_3bYr50vmH0aE7byMjg   \n",
       "743           0  qV3rmYKnsTc  UCSn0_ckKBvHeZLokQjjVXww   \n",
       "\n",
       "                                                 title     views  \n",
       "1    Crispy French Fries Recipe! You Can Make PERFE...   1340138  \n",
       "2                 🔴 LIVE WEBCAM from LANZAROTE AIRPORT  18880210  \n",
       "3    SO WE GOT BANDICOOT-NAPPED... || Crash Bandico...     90917  \n",
       "4    N.GIN HAS MADE HIS OWN ANIMATRONIC? || Crash B...    101879  \n",
       "7    🔴Live Webcam around the World - Live Camera - ...   4838120  \n",
       "..                                                 ...       ...  \n",
       "736  300/Best scene/Zack Snyder/Gerard Butler/Leoni...      2314  \n",
       "737  xQc Shows Me His New $1,000,000 Lambo in GTA 5 RP    215226  \n",
       "739                              Big Update Tomorrow?!    159562  \n",
       "742          Icefrog doesn&#39;t want you to know this    190248  \n",
       "743  GTA 5 ONLINE 🐷 MEGA RAMPE PERICOLOSE !!!🐷 GARE...    193266  \n",
       "\n",
       "[411 rows x 5 columns]"
      ]
     },
     "execution_count": 48,
     "metadata": {},
     "output_type": "execute_result"
    }
   ],
   "source": [
    "df_english_titles"
   ]
  },
  {
   "cell_type": "code",
   "execution_count": 77,
   "id": "c3c2ed39",
   "metadata": {},
   "outputs": [],
   "source": [
    "import re\n",
    "import string\n",
    "from nltk import word_tokenize\n",
    "from nltk.stem import WordNetLemmatizer\n",
    "\n",
    "\n",
    "def preprocessing(sentence):\n",
    "    #stripping emojis\n",
    "    def deEmojify(text):\n",
    "        regrex_pattern = re.compile(pattern = \"[\"\n",
    "            u\"\\U0001F600-\\U0001F64F\"  # emoticons\n",
    "            u\"\\U0001F300-\\U0001F5FF\"  # symbols & pictographs\n",
    "            u\"\\U0001F680-\\U0001F6FF\"  # transport & map symbols\n",
    "            u\"\\U0001F1E0-\\U0001F1FF\"  # flags (iOS)\n",
    "                               \"]+\", flags = re.UNICODE)\n",
    "        return regrex_pattern.sub(r'',text)\n",
    "    sentence=deEmojify(sentence)\n",
    "    \n",
    "    #stripping punctuations\n",
    "    for char in string.punctuation:\n",
    "        sentence=sentence.replace(char,'')\n",
    "        \n",
    "    #stripping chinese punctuations\n",
    "    sentence=re.sub(u'(?<=[^0-9])[^\\u4e00-\\u9fff0-9a-zA-Z]+(?=[^0-9])',' ',sentence)\n",
    "    \n",
    "    #turning lowercase\n",
    "    sentence=''.join(re.findall(r'\\D',(sentence.strip()).lower()))\n",
    "    \n",
    "    #tokenizing words\n",
    "    sentence=word_tokenize(sentence)\n",
    "    \n",
    "    #lemmatizing words\n",
    "    sentence=[WordNetLemmatizer().lemmatize(w) for w in sentence]\n",
    "    \n",
    "    \n",
    "    \n",
    "\n",
    "    \n",
    "    return sentence\n",
    "\n"
   ]
  },
  {
   "cell_type": "code",
   "execution_count": 78,
   "id": "871eedbe",
   "metadata": {},
   "outputs": [],
   "source": [
    "df['clean_english_text']=df_english_titles['title'].apply(lambda x:preprocessing(x))\n",
    "df_eng=df.dropna()"
   ]
  },
  {
   "cell_type": "code",
   "execution_count": 139,
   "id": "3894e6af",
   "metadata": {},
   "outputs": [],
   "source": [
    "X=df_eng['clean_english_text'].dropna()\n",
    "y=df_eng.set_index('id')['views']"
   ]
  },
  {
   "cell_type": "code",
   "execution_count": null,
   "id": "8bc4b85a",
   "metadata": {},
   "outputs": [],
   "source": []
  },
  {
   "cell_type": "code",
   "execution_count": 141,
   "id": "8081e7c9",
   "metadata": {
    "scrolled": true
   },
   "outputs": [
    {
     "data": {
      "text/plain": [
       "1      [crispy, french, fry, recipe, you, can, make, ...\n",
       "2               [live, webcam, from, lanzarote, airport]\n",
       "3      [so, we, got, bandicootnapped, crash, bandicoo...\n",
       "4      [ngin, ha, made, his, own, animatronic, crash,...\n",
       "7      [live, webcam, around, the, world, live, camer...\n",
       "                             ...                        \n",
       "736    [best, scenezack, snydergerard, butlerleonidas...\n",
       "737        [xqc, show, me, his, new, lambo, in, gta, rp]\n",
       "739                              [big, update, tomorrow]\n",
       "742         [icefrog, doesnt, want, you, to, know, this]\n",
       "743    [gta, online, mega, rampe, pericolose, gare, s...\n",
       "Name: clean_english_text, Length: 411, dtype: object"
      ]
     },
     "execution_count": 141,
     "metadata": {},
     "output_type": "execute_result"
    }
   ],
   "source": [
    "X"
   ]
  },
  {
   "cell_type": "code",
   "execution_count": 142,
   "id": "99241c52",
   "metadata": {},
   "outputs": [],
   "source": [
    "import numpy as np\n",
    "from tensorflow.keras.preprocessing.sequence import pad_sequences\n",
    "from tensorflow.keras.preprocessing.text import Tokenizer\n",
    "\n",
    "\n",
    "tk=Tokenizer()\n",
    "tk.fit_on_texts(X_train)\n",
    "X_tok = tk.texts_to_sequences(X)\n",
    "X_pad=pad_sequences(X_tok, padding='post', dtype='float32')\n",
    "\n",
    "\n",
    "\n",
    "# X_train_tok = tk.texts_to_sequences(X_train)\n",
    "# X_test_tok = tk.texts_to_sequences(X_test)\n",
    "\n",
    "# X_train_pad=pad_sequences(X_train_tok, padding='post', dtype='float32')\n",
    "\n",
    "\n",
    "# X_test_pad=pad_sequences(X_test_tok, padding='post', dtype='float32', maxlen=1164)"
   ]
  },
  {
   "cell_type": "code",
   "execution_count": 144,
   "id": "cb790b69",
   "metadata": {},
   "outputs": [
    {
     "data": {
      "text/plain": [
       "981"
      ]
     },
     "execution_count": 144,
     "metadata": {},
     "output_type": "execute_result"
    }
   ],
   "source": [
    "vocab_size = len(tk.word_index)\n",
    "vocab_size"
   ]
  },
  {
   "cell_type": "code",
   "execution_count": 145,
   "id": "6bddf170",
   "metadata": {},
   "outputs": [
    {
     "data": {
      "text/plain": [
       "(246,)"
      ]
     },
     "execution_count": 145,
     "metadata": {},
     "output_type": "execute_result"
    }
   ],
   "source": [
    "np.unique(np.array(y_train)).shape"
   ]
  },
  {
   "cell_type": "code",
   "execution_count": 146,
   "id": "04449163",
   "metadata": {},
   "outputs": [
    {
     "data": {
      "text/plain": [
       "15"
      ]
     },
     "execution_count": 146,
     "metadata": {},
     "output_type": "execute_result"
    }
   ],
   "source": [
    "np.array([len(i) for i in X_train]).max()"
   ]
  },
  {
   "cell_type": "code",
   "execution_count": 147,
   "id": "e2cffab6",
   "metadata": {},
   "outputs": [],
   "source": [
    "from tensorflow.keras.layers import Normalization\n",
    "from tensorflow.keras import Sequential,layers\n",
    "\n",
    "embedding_size=100\n",
    "from tensorflow.keras.layers import Dense, Flatten, SimpleRNN, LSTM, GRU,Dropout\n",
    "\n",
    "\n",
    "\n",
    "\n",
    "def initialize_model():\n",
    "    model=Sequential()\n",
    "    model.add(layers.Embedding(\n",
    "        input_dim=vocab_size+1, # 16 +1 for the 0 padding\n",
    "        input_length=15, # Max_sentence_length (optional, for model summary)\n",
    "        output_dim=embedding_size, # 100\n",
    "        mask_zero=True, # Built-in masking layer :)\n",
    "    ))\n",
    "\n",
    "    \n",
    "    model.add(layers.Conv1D(20, kernel_size=3))\n",
    "    model.add(layers.Flatten())\n",
    "    model.add(layers.Dense(512, activation='relu'))\n",
    "    model.add(layers.Dropout(0.2))\n",
    "    model.add(layers.Dense(128, activation='relu'))\n",
    "    model.add(layers.Dropout(0.2))\n",
    "    model.add(layers.Dense(64, activation='relu'))\n",
    "    model.add(layers.Dropout(0.2))\n",
    "    model.add(layers.Dense(32, activation='relu'))\n",
    "    model.add(layers.Dropout(0.2))\n",
    "    model.add(layers.Dense(16, activation='relu'))\n",
    "    model.add(layers.Dropout(0.2))\n",
    "    model.add(layers.Dense(1, activation='linear'))\n",
    "    \n",
    "    model.compile(\n",
    "        loss='mae',\n",
    "        optimizer='adam',\n",
    "        metrics='mse'\n",
    "    ) \n",
    "   \n",
    "    return model"
   ]
  },
  {
   "cell_type": "code",
   "execution_count": 148,
   "id": "abd86625",
   "metadata": {},
   "outputs": [
    {
     "name": "stdout",
     "output_type": "stream",
     "text": [
      "Epoch 1/1000\n",
      "15/15 [==============================] - 0s 8ms/step - loss: 13139863.0000 - mse: 3198049023164416.0000 - val_loss: 21483228.0000 - val_mse: 7559071573999616.0000\n",
      "Epoch 2/1000\n",
      "15/15 [==============================] - 0s 3ms/step - loss: 13139833.0000 - mse: 3198047680987136.0000 - val_loss: 21483074.0000 - val_mse: 7559067815903232.0000\n",
      "Epoch 3/1000\n",
      "15/15 [==============================] - 0s 3ms/step - loss: 13139109.0000 - mse: 3198032380166144.0000 - val_loss: 21480200.0000 - val_mse: 7558974400364544.0000\n",
      "Epoch 4/1000\n",
      "15/15 [==============================] - 0s 3ms/step - loss: 13129650.0000 - mse: 3197777098047488.0000 - val_loss: 21450902.0000 - val_mse: 7557864151318528.0000\n",
      "Epoch 5/1000\n",
      "15/15 [==============================] - 0s 3ms/step - loss: 13074041.0000 - mse: 3195115292065792.0000 - val_loss: 21369600.0000 - val_mse: 7551206952009728.0000\n",
      "Epoch 6/1000\n",
      "15/15 [==============================] - 0s 3ms/step - loss: 13041007.0000 - mse: 3191497855860736.0000 - val_loss: 21357552.0000 - val_mse: 7548873711026176.0000\n",
      "Epoch 7/1000\n",
      "15/15 [==============================] - 0s 3ms/step - loss: 13023126.0000 - mse: 3189732624302080.0000 - val_loss: 21342544.0000 - val_mse: 7546596304617472.0000\n",
      "Epoch 8/1000\n",
      "15/15 [==============================] - 0s 3ms/step - loss: 13001637.0000 - mse: 3187301672812544.0000 - val_loss: 21313690.0000 - val_mse: 7541125053153280.0000\n",
      "Epoch 9/1000\n",
      "15/15 [==============================] - 0s 3ms/step - loss: 12956633.0000 - mse: 3180084785577984.0000 - val_loss: 21257428.0000 - val_mse: 7529188265295872.0000\n",
      "Epoch 10/1000\n",
      "15/15 [==============================] - 0s 3ms/step - loss: 12857205.0000 - mse: 3173125864816640.0000 - val_loss: 21107610.0000 - val_mse: 7498915725180928.0000\n",
      "Epoch 11/1000\n",
      "15/15 [==============================] - 0s 3ms/step - loss: 12628727.0000 - mse: 3136962240184320.0000 - val_loss: 20690880.0000 - val_mse: 7417610920525824.0000\n",
      "Epoch 12/1000\n",
      "15/15 [==============================] - 0s 3ms/step - loss: 12089864.0000 - mse: 3051890749210624.0000 - val_loss: 19866348.0000 - val_mse: 7195818809360384.0000\n",
      "Epoch 13/1000\n",
      "15/15 [==============================] - 0s 3ms/step - loss: 11537759.0000 - mse: 2863154853838848.0000 - val_loss: 19183444.0000 - val_mse: 6869836160303104.0000\n",
      "Epoch 14/1000\n",
      "15/15 [==============================] - 0s 4ms/step - loss: 11338636.0000 - mse: 2786836506214400.0000 - val_loss: 18934836.0000 - val_mse: 6822711242260480.0000\n",
      "Epoch 15/1000\n",
      "15/15 [==============================] - 0s 3ms/step - loss: 10819284.0000 - mse: 2746460860841984.0000 - val_loss: 18791724.0000 - val_mse: 6832179497664512.0000\n",
      "Epoch 16/1000\n",
      "15/15 [==============================] - 0s 3ms/step - loss: 10575189.0000 - mse: 2648184492916736.0000 - val_loss: 18506716.0000 - val_mse: 6665613686603776.0000\n",
      "Epoch 17/1000\n",
      "15/15 [==============================] - 0s 3ms/step - loss: 10300132.0000 - mse: 2622932232699904.0000 - val_loss: 18317506.0000 - val_mse: 6357057330479104.0000\n",
      "Epoch 18/1000\n",
      "15/15 [==============================] - 0s 4ms/step - loss: 9646054.0000 - mse: 2352846167080960.0000 - val_loss: 17898620.0000 - val_mse: 5900265009971200.0000\n",
      "Epoch 19/1000\n",
      "15/15 [==============================] - 0s 3ms/step - loss: 9013440.0000 - mse: 2070069546844160.0000 - val_loss: 17692546.0000 - val_mse: 5450011240300544.0000\n",
      "Epoch 20/1000\n",
      "15/15 [==============================] - 0s 3ms/step - loss: 8884665.0000 - mse: 1855322926874624.0000 - val_loss: 16885392.0000 - val_mse: 5328956513320960.0000\n",
      "Epoch 21/1000\n",
      "15/15 [==============================] - 0s 4ms/step - loss: 7406801.0000 - mse: 1677522286673920.0000 - val_loss: 16535404.0000 - val_mse: 5002823540408320.0000\n",
      "Epoch 22/1000\n",
      "15/15 [==============================] - 0s 3ms/step - loss: 7529704.5000 - mse: 1459102664359936.0000 - val_loss: 16258386.0000 - val_mse: 4774506300178432.0000\n",
      "Epoch 23/1000\n",
      "15/15 [==============================] - 0s 3ms/step - loss: 7254425.0000 - mse: 1407230196842496.0000 - val_loss: 16002450.0000 - val_mse: 4194228301201408.0000\n",
      "Epoch 24/1000\n",
      "15/15 [==============================] - 0s 3ms/step - loss: 6865412.0000 - mse: 1254664368553984.0000 - val_loss: 15512591.0000 - val_mse: 4036600317083648.0000\n",
      "Epoch 25/1000\n",
      "15/15 [==============================] - 0s 3ms/step - loss: 7074194.5000 - mse: 1178754579693568.0000 - val_loss: 15021041.0000 - val_mse: 4033960522809344.0000\n",
      "Epoch 26/1000\n",
      "15/15 [==============================] - 0s 3ms/step - loss: 6544851.5000 - mse: 1069004005310464.0000 - val_loss: 14699610.0000 - val_mse: 3964567004643328.0000\n",
      "Epoch 27/1000\n",
      "15/15 [==============================] - 0s 3ms/step - loss: 6068584.0000 - mse: 981922603859968.0000 - val_loss: 14427637.0000 - val_mse: 3839706131333120.0000\n",
      "Epoch 28/1000\n",
      "15/15 [==============================] - 0s 4ms/step - loss: 5779768.5000 - mse: 955867654520832.0000 - val_loss: 13962364.0000 - val_mse: 3525375728549888.0000\n",
      "Epoch 29/1000\n",
      "15/15 [==============================] - 0s 3ms/step - loss: 5874995.5000 - mse: 969332980973568.0000 - val_loss: 13840742.0000 - val_mse: 3580283664203776.0000\n",
      "Epoch 30/1000\n",
      "15/15 [==============================] - 0s 3ms/step - loss: 5885045.5000 - mse: 908973658079232.0000 - val_loss: 13724442.0000 - val_mse: 3499022077657088.0000\n",
      "Epoch 31/1000\n",
      "15/15 [==============================] - 0s 3ms/step - loss: 5225837.0000 - mse: 683366340886528.0000 - val_loss: 13055971.0000 - val_mse: 3208421100748800.0000\n",
      "Epoch 32/1000\n",
      "15/15 [==============================] - 0s 3ms/step - loss: 5411334.5000 - mse: 767611117764608.0000 - val_loss: 12419025.0000 - val_mse: 2803415885283328.0000\n",
      "Epoch 33/1000\n",
      "15/15 [==============================] - 0s 3ms/step - loss: 5598723.0000 - mse: 834312161198080.0000 - val_loss: 12139180.0000 - val_mse: 2747742371708928.0000\n",
      "Epoch 34/1000\n",
      "15/15 [==============================] - 0s 3ms/step - loss: 4674389.0000 - mse: 706918062489600.0000 - val_loss: 11490507.0000 - val_mse: 2534387455361024.0000\n",
      "Epoch 35/1000\n",
      "15/15 [==============================] - 0s 3ms/step - loss: 4186066.7500 - mse: 425571431481344.0000 - val_loss: 10974961.0000 - val_mse: 2230502413041664.0000\n",
      "Epoch 36/1000\n",
      "15/15 [==============================] - 0s 3ms/step - loss: 4418055.5000 - mse: 339192022302720.0000 - val_loss: 10414137.0000 - val_mse: 2042908039446528.0000\n",
      "Epoch 37/1000\n",
      "15/15 [==============================] - 0s 4ms/step - loss: 3726401.7500 - mse: 266810414858240.0000 - val_loss: 9592232.0000 - val_mse: 1846517707046912.0000\n",
      "Epoch 38/1000\n",
      "15/15 [==============================] - 0s 3ms/step - loss: 2852603.0000 - mse: 115079857045504.0000 - val_loss: 9875196.0000 - val_mse: 1997282870296576.0000\n",
      "Epoch 39/1000\n",
      "15/15 [==============================] - 0s 3ms/step - loss: 3303804.0000 - mse: 204875157733376.0000 - val_loss: 9585036.0000 - val_mse: 1890168130764800.0000\n",
      "Epoch 40/1000\n",
      "15/15 [==============================] - 0s 3ms/step - loss: 2246869.0000 - mse: 58587757936640.0000 - val_loss: 7973550.5000 - val_mse: 1568165305778176.0000\n",
      "Epoch 41/1000\n",
      "15/15 [==============================] - 0s 3ms/step - loss: 2498489.5000 - mse: 112142418182144.0000 - val_loss: 8507884.0000 - val_mse: 1393138543362048.0000\n",
      "Epoch 42/1000\n",
      "15/15 [==============================] - 0s 3ms/step - loss: 4784404.5000 - mse: 507917665042432.0000 - val_loss: 8369246.5000 - val_mse: 1668426082811904.0000\n",
      "Epoch 43/1000\n",
      "15/15 [==============================] - 0s 3ms/step - loss: 3600322.5000 - mse: 250000030302208.0000 - val_loss: 8693875.0000 - val_mse: 1744614239240192.0000\n",
      "Epoch 44/1000\n",
      "15/15 [==============================] - 0s 3ms/step - loss: 2921440.2500 - mse: 147331538223104.0000 - val_loss: 9069776.0000 - val_mse: 1831447472111616.0000\n",
      "Epoch 45/1000\n",
      "15/15 [==============================] - 0s 3ms/step - loss: 1902960.6250 - mse: 54809419841536.0000 - val_loss: 8422614.0000 - val_mse: 1704542597021696.0000\n",
      "Epoch 46/1000\n",
      "15/15 [==============================] - 0s 3ms/step - loss: 2653437.2500 - mse: 107667339083776.0000 - val_loss: 8272649.0000 - val_mse: 1620250374176768.0000\n",
      "Epoch 47/1000\n",
      "15/15 [==============================] - 0s 3ms/step - loss: 1983847.3750 - mse: 51750052560896.0000 - val_loss: 10295255.0000 - val_mse: 2070025657647104.0000\n"
     ]
    },
    {
     "name": "stdout",
     "output_type": "stream",
     "text": [
      "Epoch 48/1000\n",
      "15/15 [==============================] - 0s 3ms/step - loss: 2850799.7500 - mse: 125469131276288.0000 - val_loss: 9705037.0000 - val_mse: 1939562939023360.0000\n",
      "Epoch 49/1000\n",
      "15/15 [==============================] - 0s 3ms/step - loss: 2895348.2500 - mse: 272446200479744.0000 - val_loss: 9000810.0000 - val_mse: 1805239984324608.0000\n",
      "Epoch 50/1000\n",
      "15/15 [==============================] - 0s 3ms/step - loss: 2684805.7500 - mse: 108282081443840.0000 - val_loss: 9646921.0000 - val_mse: 1934016257196032.0000\n",
      "Epoch 51/1000\n",
      "15/15 [==============================] - 0s 3ms/step - loss: 2864516.5000 - mse: 210318861008896.0000 - val_loss: 9811981.0000 - val_mse: 1903379450167296.0000\n",
      "Epoch 52/1000\n",
      "15/15 [==============================] - 0s 3ms/step - loss: 2895493.7500 - mse: 161891359916032.0000 - val_loss: 10232708.0000 - val_mse: 2081912919162880.0000\n",
      "Epoch 53/1000\n",
      "15/15 [==============================] - 0s 3ms/step - loss: 3077775.2500 - mse: 253454542962688.0000 - val_loss: 9406881.0000 - val_mse: 1920991903088640.0000\n",
      "Epoch 54/1000\n",
      "15/15 [==============================] - 0s 3ms/step - loss: 3151704.7500 - mse: 230078713692160.0000 - val_loss: 8953062.0000 - val_mse: 1811988854341632.0000\n",
      "Epoch 55/1000\n",
      "15/15 [==============================] - 0s 3ms/step - loss: 2830826.7500 - mse: 211078063587328.0000 - val_loss: 9139145.0000 - val_mse: 1837023950274560.0000\n",
      "Epoch 56/1000\n",
      "15/15 [==============================] - 0s 3ms/step - loss: 2989781.5000 - mse: 484929456570368.0000 - val_loss: 9370744.0000 - val_mse: 1874953611771904.0000\n",
      "Epoch 57/1000\n",
      "15/15 [==============================] - 0s 3ms/step - loss: 2182088.0000 - mse: 61347635134464.0000 - val_loss: 9203174.0000 - val_mse: 1820539597357056.0000\n",
      "Epoch 58/1000\n",
      "15/15 [==============================] - 0s 3ms/step - loss: 2411019.7500 - mse: 125126364364800.0000 - val_loss: 9483367.0000 - val_mse: 1825569809367040.0000\n",
      "Epoch 59/1000\n",
      "15/15 [==============================] - 0s 3ms/step - loss: 2073157.6250 - mse: 52522215538688.0000 - val_loss: 9152569.0000 - val_mse: 1740439531028480.0000\n",
      "Epoch 60/1000\n",
      "15/15 [==============================] - 0s 3ms/step - loss: 2085739.0000 - mse: 80520343977984.0000 - val_loss: 8396337.0000 - val_mse: 1641189950357504.0000\n",
      "Epoch 61/1000\n",
      "15/15 [==============================] - 0s 3ms/step - loss: 2255503.2500 - mse: 82511086485504.0000 - val_loss: 10002838.0000 - val_mse: 2067139573841920.0000\n",
      "Epoch 62/1000\n",
      "15/15 [==============================] - 0s 3ms/step - loss: 3068774.7500 - mse: 201944949850112.0000 - val_loss: 9359938.0000 - val_mse: 1915981957955584.0000\n",
      "Epoch 63/1000\n",
      "15/15 [==============================] - 0s 3ms/step - loss: 2665120.5000 - mse: 173380581982208.0000 - val_loss: 9171022.0000 - val_mse: 1793240114135040.0000\n",
      "Epoch 64/1000\n",
      "15/15 [==============================] - 0s 3ms/step - loss: 2165680.2500 - mse: 83461683544064.0000 - val_loss: 8675790.0000 - val_mse: 1726434582200320.0000\n",
      "Epoch 65/1000\n",
      "15/15 [==============================] - 0s 3ms/step - loss: 2722023.5000 - mse: 137430573252608.0000 - val_loss: 8502498.0000 - val_mse: 1714136614436864.0000\n",
      "Epoch 66/1000\n",
      "15/15 [==============================] - 0s 3ms/step - loss: 2536527.2500 - mse: 96808151810048.0000 - val_loss: 9523220.0000 - val_mse: 1967260646244352.0000\n",
      "Epoch 67/1000\n",
      "15/15 [==============================] - 0s 3ms/step - loss: 2111030.2500 - mse: 113415070679040.0000 - val_loss: 8934548.0000 - val_mse: 1770383640363008.0000\n",
      "Epoch 68/1000\n",
      "15/15 [==============================] - 0s 3ms/step - loss: 2173680.0000 - mse: 58273097056256.0000 - val_loss: 8648230.0000 - val_mse: 1477447140769792.0000\n",
      "Epoch 69/1000\n",
      "15/15 [==============================] - 0s 3ms/step - loss: 2619181.5000 - mse: 131911355727872.0000 - val_loss: 8258854.5000 - val_mse: 1623290271498240.0000\n",
      "Epoch 70/1000\n",
      "15/15 [==============================] - 0s 3ms/step - loss: 3906918.0000 - mse: 439471052947456.0000 - val_loss: 9338194.0000 - val_mse: 1864207603597312.0000\n",
      "Epoch 71/1000\n",
      "15/15 [==============================] - 0s 3ms/step - loss: 2455172.5000 - mse: 114729372614656.0000 - val_loss: 9096404.0000 - val_mse: 1790174849662976.0000\n",
      "Epoch 72/1000\n",
      "15/15 [==============================] - 0s 3ms/step - loss: 2461284.5000 - mse: 115241178365952.0000 - val_loss: 9730973.0000 - val_mse: 1980007706525696.0000\n",
      "Epoch 73/1000\n",
      "15/15 [==============================] - 0s 3ms/step - loss: 2995172.2500 - mse: 182570302046208.0000 - val_loss: 8506406.0000 - val_mse: 1694236017688576.0000\n",
      "Epoch 74/1000\n",
      "15/15 [==============================] - 0s 3ms/step - loss: 2701611.0000 - mse: 193663212716032.0000 - val_loss: 8412347.0000 - val_mse: 1488286564483072.0000\n",
      "Epoch 75/1000\n",
      "15/15 [==============================] - 0s 3ms/step - loss: 2981719.7500 - mse: 164140547047424.0000 - val_loss: 8663048.0000 - val_mse: 1622173043130368.0000\n",
      "Epoch 76/1000\n",
      "15/15 [==============================] - 0s 3ms/step - loss: 2467967.0000 - mse: 80190940119040.0000 - val_loss: 9935029.0000 - val_mse: 1907380749074432.0000\n",
      "Epoch 77/1000\n",
      "15/15 [==============================] - 0s 3ms/step - loss: 1929539.6250 - mse: 52867796828160.0000 - val_loss: 8704973.0000 - val_mse: 1681694981619712.0000\n",
      "Epoch 78/1000\n",
      "15/15 [==============================] - 0s 3ms/step - loss: 2694800.0000 - mse: 150742581116928.0000 - val_loss: 8337741.0000 - val_mse: 1548544150339584.0000\n",
      "Epoch 79/1000\n",
      "15/15 [==============================] - 0s 3ms/step - loss: 1933424.3750 - mse: 84605344415744.0000 - val_loss: 8316499.0000 - val_mse: 1619222803251200.0000\n",
      "Epoch 80/1000\n",
      "15/15 [==============================] - 0s 3ms/step - loss: 3148983.5000 - mse: 448684831539200.0000 - val_loss: 9082873.0000 - val_mse: 1756315206549504.0000\n",
      "Epoch 81/1000\n",
      "15/15 [==============================] - 0s 3ms/step - loss: 3072041.0000 - mse: 276881475633152.0000 - val_loss: 11511115.0000 - val_mse: 2437258112139264.0000\n",
      "Epoch 82/1000\n",
      "15/15 [==============================] - 0s 3ms/step - loss: 3755595.7500 - mse: 353819774943232.0000 - val_loss: 10490243.0000 - val_mse: 2166680943853568.0000\n",
      "Epoch 83/1000\n",
      "15/15 [==============================] - 0s 3ms/step - loss: 3933424.0000 - mse: 490496002621440.0000 - val_loss: 10185756.0000 - val_mse: 2102404745003008.0000\n",
      "Epoch 84/1000\n",
      "15/15 [==============================] - 0s 3ms/step - loss: 2892213.5000 - mse: 224905526247424.0000 - val_loss: 9680788.0000 - val_mse: 1999230235312128.0000\n",
      "Epoch 85/1000\n",
      "15/15 [==============================] - 0s 3ms/step - loss: 2739486.7500 - mse: 210186421665792.0000 - val_loss: 9177626.0000 - val_mse: 1880430231945216.0000\n",
      "Epoch 86/1000\n",
      "15/15 [==============================] - 0s 3ms/step - loss: 2569175.5000 - mse: 219439291170816.0000 - val_loss: 9352747.0000 - val_mse: 1883816545222656.0000\n",
      "Epoch 87/1000\n",
      "15/15 [==============================] - 0s 3ms/step - loss: 2349643.5000 - mse: 147798615916544.0000 - val_loss: 8506008.0000 - val_mse: 1677988424843264.0000\n",
      "Epoch 88/1000\n",
      "15/15 [==============================] - 0s 3ms/step - loss: 2336510.0000 - mse: 118748103049216.0000 - val_loss: 8042541.0000 - val_mse: 1582580021329920.0000\n",
      "Epoch 89/1000\n",
      "15/15 [==============================] - 0s 3ms/step - loss: 2919083.0000 - mse: 248313181896704.0000 - val_loss: 8634245.0000 - val_mse: 1711164765503488.0000\n",
      "Epoch 90/1000\n",
      "15/15 [==============================] - 0s 3ms/step - loss: 2667864.7500 - mse: 223884079005696.0000 - val_loss: 8279018.0000 - val_mse: 1648383752142848.0000\n"
     ]
    }
   ],
   "source": [
    "from tensorflow.keras.callbacks import EarlyStopping\n",
    "model=initialize_model()\n",
    "es=EarlyStopping(patience=50, restore_best_weights=True)\n",
    "history=model.fit(X_train_pad,y_train,batch_size=16,validation_split=0.2,callbacks=es,epochs=1000)\n",
    "\n"
   ]
  },
  {
   "cell_type": "code",
   "execution_count": null,
   "id": "a9adc085",
   "metadata": {},
   "outputs": [],
   "source": []
  },
  {
   "cell_type": "code",
   "execution_count": null,
   "id": "be06b4b7",
   "metadata": {},
   "outputs": [],
   "source": []
  },
  {
   "cell_type": "code",
   "execution_count": null,
   "id": "5ce365c3",
   "metadata": {},
   "outputs": [],
   "source": []
  },
  {
   "cell_type": "code",
   "execution_count": null,
   "id": "2937f173",
   "metadata": {},
   "outputs": [],
   "source": []
  },
  {
   "cell_type": "code",
   "execution_count": null,
   "id": "f07ddc1f",
   "metadata": {},
   "outputs": [],
   "source": [
    "10415108.0000"
   ]
  },
  {
   "cell_type": "code",
   "execution_count": null,
   "id": "d489e63c",
   "metadata": {},
   "outputs": [],
   "source": [
    "7201640.5000"
   ]
  },
  {
   "cell_type": "code",
   "execution_count": null,
   "id": "970bcfc3",
   "metadata": {},
   "outputs": [],
   "source": [
    "84298.0000\n",
    "8,279,018.0000"
   ]
  },
  {
   "cell_type": "code",
   "execution_count": null,
   "id": "72860d7f",
   "metadata": {},
   "outputs": [],
   "source": [
    "831485.0000\n",
    "3123700\n",
    "365622\n",
    "8,365,622.5000"
   ]
  },
  {
   "cell_type": "code",
   "execution_count": 17,
   "id": "62bab8cb",
   "metadata": {},
   "outputs": [],
   "source": [
    "# import torch\n",
    "# from transformers import BertTokenizer, BertModel\n",
    "\n",
    "# # OPTIONAL: if you want to have more information on what's happening, activate the logger as follows\n",
    "# import logging\n",
    "# #logging.basicConfig(level=logging.INFO)\n",
    "\n",
    "# import matplotlib.pyplot as plt\n",
    "\n",
    "\n",
    "# # Load pre-trained model tokenizer (vocabulary)\n",
    "# tokenizer = BertTokenizer.from_pretrained('bert-base-uncased')\n"
   ]
  },
  {
   "cell_type": "code",
   "execution_count": 18,
   "id": "ccc071b1",
   "metadata": {},
   "outputs": [],
   "source": [
    "# tokenizer = BertTokenizer.from_pretrained('bert-base-uncased')\n"
   ]
  },
  {
   "cell_type": "code",
   "execution_count": 20,
   "id": "b8514d4e",
   "metadata": {
    "scrolled": true
   },
   "outputs": [],
   "source": [
    "# df_bert_vec=df['title'].apply(lambda x:tokenizer.tokenize(x))"
   ]
  },
  {
   "cell_type": "code",
   "execution_count": 21,
   "id": "c2dc6234",
   "metadata": {},
   "outputs": [
    {
     "data": {
      "text/plain": [
       "0      [[UNK], [UNK], 新, [UNK], [UNK], hd, 24, 小, [UN...\n",
       "1      [crisp, ##y, french, fries, recipe, !, you, ca...\n",
       "2      [[UNK], live, web, ##cam, from, lan, ##zar, ##...\n",
       "3      [so, we, got, band, ##ico, ##ot, -, nap, ##ped...\n",
       "4      [n, ., gin, has, made, his, own, an, ##ima, ##...\n",
       "                             ...                        \n",
       "739                        [big, update, tomorrow, ?, !]\n",
       "740                   [magnetic, anti, slip, drill, bit]\n",
       "741    [al, ##gui, ##en, ha, cobra, ##do, por, es, ##...\n",
       "742    [ice, ##fr, ##og, doesn, &, #, 39, ;, t, want,...\n",
       "743    [gt, ##a, 5, online, [UNK], mega, ramp, ##e, p...\n",
       "Name: title, Length: 744, dtype: object"
      ]
     },
     "execution_count": 21,
     "metadata": {},
     "output_type": "execute_result"
    }
   ],
   "source": [
    "# df_bert_vec"
   ]
  },
  {
   "cell_type": "code",
   "execution_count": null,
   "id": "d32b29a7",
   "metadata": {},
   "outputs": [],
   "source": []
  },
  {
   "cell_type": "code",
   "execution_count": null,
   "id": "877a8405",
   "metadata": {},
   "outputs": [],
   "source": []
  },
  {
   "cell_type": "code",
   "execution_count": null,
   "id": "f12c8b26",
   "metadata": {},
   "outputs": [],
   "source": []
  },
  {
   "cell_type": "code",
   "execution_count": null,
   "id": "9dfee7bd",
   "metadata": {},
   "outputs": [],
   "source": []
  }
 ],
 "metadata": {
  "kernelspec": {
   "display_name": "Python 3 (ipykernel)",
   "language": "python",
   "name": "python3"
  },
  "language_info": {
   "codemirror_mode": {
    "name": "ipython",
    "version": 3
   },
   "file_extension": ".py",
   "mimetype": "text/x-python",
   "name": "python",
   "nbconvert_exporter": "python",
   "pygments_lexer": "ipython3",
   "version": "3.10.6"
  },
  "toc": {
   "base_numbering": 1,
   "nav_menu": {},
   "number_sections": true,
   "sideBar": true,
   "skip_h1_title": false,
   "title_cell": "Table of Contents",
   "title_sidebar": "Contents",
   "toc_cell": false,
   "toc_position": {},
   "toc_section_display": true,
   "toc_window_display": false
  }
 },
 "nbformat": 4,
 "nbformat_minor": 5
}
