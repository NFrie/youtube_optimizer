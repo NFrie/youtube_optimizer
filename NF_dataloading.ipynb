{
 "cells": [
  {
   "cell_type": "code",
   "execution_count": 10,
   "id": "222f3f0e",
   "metadata": {},
   "outputs": [],
   "source": [
    "import os\n",
    "import matplotlib.pyplot as plt\n",
    "from sklearn.model_selection import train_test_split\n",
    "import numpy as np"
   ]
  },
  {
   "cell_type": "code",
   "execution_count": 2,
   "id": "8a3dc522",
   "metadata": {},
   "outputs": [],
   "source": [
    "from google.cloud import storage\n",
    "from google.oauth2 import service_account\n",
    "\n",
    "BUCKET_NAME = \"youtube_optimizer_data\"\n",
    "storage_dir = \"thumbnail_images\"\n",
    "local_dir = \"bucket_data/\"\n",
    "\n",
    "my_credentials = service_account.Credentials.from_service_account_file(\"massive-pen-365111-8eaed18fb748.json\")\n",
    "\n",
    "client = storage.Client(credentials=my_credentials)\n",
    "bucket = client.bucket(BUCKET_NAME)\n",
    "blob = bucket.blob(storage_dir)"
   ]
  },
  {
   "cell_type": "markdown",
   "id": "8eea57e2",
   "metadata": {},
   "source": [
    "! Folder bucket_data has to be created first"
   ]
  },
  {
   "cell_type": "markdown",
   "id": "c8b58551",
   "metadata": {},
   "source": [
    "Name could be improved"
   ]
  },
  {
   "cell_type": "code",
   "execution_count": 3,
   "id": "d7e28776",
   "metadata": {},
   "outputs": [],
   "source": [
    "blobs = bucket.list_blobs(prefix =storage_dir)\n",
    "for blob in blobs:\n",
    "  filename = blob.name.replace('/','_')\n",
    "  blob.download_to_filename(local_dir + filename)\n"
   ]
  },
  {
   "cell_type": "code",
   "execution_count": 4,
   "id": "03f8b570",
   "metadata": {},
   "outputs": [
    {
     "data": {
      "text/plain": [
       "17"
      ]
     },
     "execution_count": 4,
     "metadata": {},
     "output_type": "execute_result"
    }
   ],
   "source": [
    "len('thumbnail_images_')"
   ]
  },
  {
   "cell_type": "code",
   "execution_count": 5,
   "id": "a622a11e",
   "metadata": {},
   "outputs": [],
   "source": [
    "def load_images_from_folder(folder='/Users/nicolafriedrich/code/jacksharples1/youtube_optimizer/bucket_data'):\n",
    "    images = []\n",
    "    views = []\n",
    "    for filename in os.listdir(folder):\n",
    "        if len(filename)< 18:\n",
    "            print('thumbnail_images_')\n",
    "            continue\n",
    "\n",
    "        else:\n",
    "            img = plt.imread(os.path.join(folder,filename))\n",
    "            last_underscore = filename.rfind('_')\n",
    "            y = int(filename[last_underscore +1:])\n",
    "            images.append(img)\n",
    "            views.append(y)\n",
    "    return images, views\n"
   ]
  },
  {
   "cell_type": "code",
   "execution_count": 6,
   "id": "8861924d",
   "metadata": {},
   "outputs": [
    {
     "name": "stdout",
     "output_type": "stream",
     "text": [
      "thumbnail_images_\n"
     ]
    },
    {
     "data": {
      "text/plain": [
       "633"
      ]
     },
     "execution_count": 6,
     "metadata": {},
     "output_type": "execute_result"
    }
   ],
   "source": [
    "imgs,views = load_images_from_folder()\n",
    "len(views)"
   ]
  },
  {
   "cell_type": "code",
   "execution_count": 7,
   "id": "71ece263",
   "metadata": {},
   "outputs": [],
   "source": [
    "X = imgs\n",
    "y = views"
   ]
  },
  {
   "cell_type": "code",
   "execution_count": 8,
   "id": "618119d9",
   "metadata": {},
   "outputs": [],
   "source": [
    "X_train, X_test, y_train, y_test = train_test_split(\n",
    "   X, y, test_size=0.3, random_state=0)"
   ]
  },
  {
   "cell_type": "code",
   "execution_count": 11,
   "id": "bee328a5",
   "metadata": {},
   "outputs": [
    {
     "name": "stderr",
     "output_type": "stream",
     "text": [
      "/var/folders/5h/c46twxvs23df7jrx5ql_wh3r0000gn/T/ipykernel_3659/2945774112.py:1: VisibleDeprecationWarning: Creating an ndarray from ragged nested sequences (which is a list-or-tuple of lists-or-tuples-or ndarrays with different lengths or shapes) is deprecated. If you meant to do this, you must specify 'dtype=object' when creating the ndarray.\n",
      "  X_train2 = np.array(X_train)\n"
     ]
    }
   ],
   "source": [
    "X_train2 = np.array(X_train)\n",
    "y_train2 = np.array(y_train)"
   ]
  }
 ],
 "metadata": {
  "kernelspec": {
   "display_name": "Python 3 (ipykernel)",
   "language": "python",
   "name": "python3"
  },
  "language_info": {
   "codemirror_mode": {
    "name": "ipython",
    "version": 3
   },
   "file_extension": ".py",
   "mimetype": "text/x-python",
   "name": "python",
   "nbconvert_exporter": "python",
   "pygments_lexer": "ipython3",
   "version": "3.10.6"
  },
  "toc": {
   "base_numbering": 1,
   "nav_menu": {},
   "number_sections": true,
   "sideBar": true,
   "skip_h1_title": false,
   "title_cell": "Table of Contents",
   "title_sidebar": "Contents",
   "toc_cell": false,
   "toc_position": {},
   "toc_section_display": true,
   "toc_window_display": false
  }
 },
 "nbformat": 4,
 "nbformat_minor": 5
}
